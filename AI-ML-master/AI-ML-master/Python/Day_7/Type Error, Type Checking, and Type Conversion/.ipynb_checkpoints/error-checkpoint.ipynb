{
 "cells": [
  {
   "cell_type": "code",
   "execution_count": 1,
   "id": "3073ead9-6c8c-44b2-9377-19da7f187af2",
   "metadata": {},
   "outputs": [
    {
     "ename": "TypeError",
     "evalue": "object of type 'int' has no len()",
     "output_type": "error",
     "traceback": [
      "\u001b[1;31m---------------------------------------------------------------------------\u001b[0m",
      "\u001b[1;31mTypeError\u001b[0m                                 Traceback (most recent call last)",
      "Cell \u001b[1;32mIn[1], line 3\u001b[0m\n\u001b[0;32m      1\u001b[0m \u001b[38;5;66;03m# previously we saw how the len function gives us a type error when we give it a number instead of a string.\u001b[39;00m\n\u001b[1;32m----> 3\u001b[0m \u001b[38;5;28mprint\u001b[39m(\u001b[38;5;28mlen\u001b[39m(\u001b[38;5;241m483\u001b[39m))\n",
      "\u001b[1;31mTypeError\u001b[0m: object of type 'int' has no len()"
     ]
    }
   ],
   "source": [
    "# previously we saw how the len function gives us a type error when we give it a number instead of a string.\n",
    "\n",
    "print(len(483))"
   ]
  },
  {
   "cell_type": "code",
   "execution_count": 8,
   "id": "bff4d768-ad50-49bc-af29-d6a312ea61d9",
   "metadata": {},
   "outputs": [
    {
     "name": "stdout",
     "output_type": "stream",
     "text": [
      "7\n"
     ]
    }
   ],
   "source": [
    "print(len(\"Ashmita\"))"
   ]
  },
  {
   "cell_type": "code",
   "execution_count": 2,
   "id": "b69eb87a-1065-4fac-9fef-d1a13ddeb036",
   "metadata": {},
   "outputs": [],
   "source": [
    "# So, let's talk a liitle bit more about data types and functions.\n",
    "# and the way I think about functions is kind of like some sort of fancy machine\n",
    "# that you might see in a factory, right? So, in this case we've got some sort of machine\n",
    "# that's going to take potatoes into chips and we don't really care how it does it,\n",
    "# but it's probably going to have to peel the potatoes, wash the potatoes, cut it up, fry it,\n",
    "# and then finally return it to us as an output in the form of fries.\n",
    "# Now let's say that we took the same machine that normally processes potatoes and\n",
    "# we decide to get a rock and we just pass this through the function,then we're getting\n",
    "# an error, right? This is basically what happened above.\n",
    "# the len() function doesn't like working with integers. And by forcing this through,\n",
    "# We end up with an error and our code breaks and it gives us this thing, a type error.\n",
    "# Now do you remember previously we had this challenge where we asked you to get the\n",
    "# get an input from the user, What is your name?  And then we use the length function\n",
    "# to get the number of characters of their name. And let's just save that to a variable.\n",
    "# let's call it num_char and then we print your name has num_char plus number of characters.\n",
    "# So in this case you would expect it to prompt the user to enter their name.\n",
    "# Let's say I write Abhishek and the length of that string  would be 8."
   ]
  },
  {
   "cell_type": "code",
   "execution_count": 9,
   "id": "6a97de23-dea0-46e2-994e-2c9f3c7377a5",
   "metadata": {},
   "outputs": [
    {
     "name": "stdin",
     "output_type": "stream",
     "text": [
      "What is your name?  Abhishek\n"
     ]
    },
    {
     "ename": "TypeError",
     "evalue": "can only concatenate str (not \"int\") to str",
     "output_type": "error",
     "traceback": [
      "\u001b[1;31m---------------------------------------------------------------------------\u001b[0m",
      "\u001b[1;31mTypeError\u001b[0m                                 Traceback (most recent call last)",
      "Cell \u001b[1;32mIn[9], line 2\u001b[0m\n\u001b[0;32m      1\u001b[0m num_char \u001b[38;5;241m=\u001b[39m \u001b[38;5;28mlen\u001b[39m(\u001b[38;5;28minput\u001b[39m(\u001b[38;5;124m\"\u001b[39m\u001b[38;5;124mWhat is your name? \u001b[39m\u001b[38;5;124m\"\u001b[39m))\n\u001b[1;32m----> 2\u001b[0m \u001b[38;5;28mprint\u001b[39m(\u001b[38;5;124m\"\u001b[39m\u001b[38;5;124myour name has\u001b[39m\u001b[38;5;124m\"\u001b[39m \u001b[38;5;241m+\u001b[39m num_char \u001b[38;5;241m+\u001b[39m \u001b[38;5;124m\"\u001b[39m\u001b[38;5;124mcharacters.\u001b[39m\u001b[38;5;124m\"\u001b[39m  )\n",
      "\u001b[1;31mTypeError\u001b[0m: can only concatenate str (not \"int\") to str"
     ]
    }
   ],
   "source": [
    "num_char = len(input(\"What is your name? \"))\n",
    "print(\"your name has\" + num_char + \"characters.\"  )"
   ]
  },
  {
   "cell_type": "code",
   "execution_count": 4,
   "id": "8f1fe52d-7e52-46c7-a4d5-260962f5c157",
   "metadata": {},
   "outputs": [],
   "source": [
    "# the above print function would also raise a type error. So it tells you that \n",
    "# you can only concatenate strings, not integers. So in this case, we were concatenating\n",
    "# a string to an integer.\n",
    "\n",
    "# So how can we prevent these type errors and how can we see the data type that we're working with?\n",
    "# well, we could use a function called type, which basically will check whatever you put\n",
    "# between the parentheses and give you the type of data that it is."
   ]
  },
  {
   "cell_type": "code",
   "execution_count": 10,
   "id": "6175c947-46de-4c7a-b45e-ffea61bd6c6b",
   "metadata": {},
   "outputs": [
    {
     "name": "stdout",
     "output_type": "stream",
     "text": [
      "<class 'int'>\n"
     ]
    }
   ],
   "source": [
    "print(type(num_char))"
   ]
  },
  {
   "cell_type": "code",
   "execution_count": 11,
   "id": "b5d0e912-fca0-43cc-92f4-4627ccf28e1b",
   "metadata": {},
   "outputs": [
    {
     "name": "stdin",
     "output_type": "stream",
     "text": [
      "What is your name?  Abhishek\n"
     ]
    },
    {
     "name": "stdout",
     "output_type": "stream",
     "text": [
      "your name has 8 characters.\n"
     ]
    }
   ],
   "source": [
    "# So adding a string to an integer doesn't make any sense, which is why you got the type error.\n",
    "# Now every so often when you're writing code and you're not quite sure what the type of data\n",
    "# of something might be, then you can simply just put it inside a type check function,\n",
    "# right? Like so. And then you'll get an answer.\n",
    "# Now in addition to type checking, we can also do type conversion or you might hear\n",
    "# it called type casting where we change a piece of data from one particular data type to another.\n",
    "# So it, for eg, we know that this variable num_char has the data type of integer.\n",
    "# If we wanted to turn it into a string.\n",
    "\n",
    "# We could convert it into a string by writing -->\n",
    "\n",
    "num_char = len(input(\"What is your name? \"))\n",
    "\n",
    "new_num_char = str(num_char)\n",
    "\n",
    "print(\"your name has \" + new_num_char + \" characters.\"  )"
   ]
  },
  {
   "cell_type": "code",
   "execution_count": 15,
   "id": "ed76a323-e4f2-45cb-afe7-a57919ca14c5",
   "metadata": {},
   "outputs": [
    {
     "name": "stdout",
     "output_type": "stream",
     "text": [
      "70100\n"
     ]
    }
   ],
   "source": [
    "# So in this case we have taken a integer data type, put it inside the \n",
    "# parentheses of a str function, which takes a object in between the parentheses \n",
    "# and converts it into a string, which we then store inside this new_num_char\n",
    "# and we can now use it in our print statement because all the data types of all\n",
    "# the pieces of data that we're adding together have the same data type, string.\n",
    "\n",
    "# Now you're not limited to only converting numbers into strings.\n",
    "# You can covert a whole bunch of different data types.\n",
    "# a = 123\n",
    "# print(type(a)) # This gives you a integer\n",
    "\n",
    "# Now let's say I converted to a string by wrapping it inside the string function, then hit enter.\n",
    "# a = str(123)\n",
    "# print(type(a))\n",
    "\n",
    "# Let me ask you two quick questions.\n",
    "\n",
    "# 1. what will following line of code print? \n",
    "\n",
    "# print(70 + float(\"100.5\"))\n",
    "\n",
    "# This will print 170.5 but what's actually happening behind the scene is we're\n",
    "# converting this string 100.5 into a floating-point number nad then we're adding 70\n",
    "# to 100.5 and finally we're printing the results.\n",
    "\n",
    "\n",
    "# 2. What about this line\n",
    "print(str(70) + str(100))\n",
    "\n",
    "# Well, this time we get 70100."
   ]
  },
  {
   "cell_type": "code",
   "execution_count": 16,
   "id": "3f193fd9-8d65-42fc-a03c-de395bc16c61",
   "metadata": {},
   "outputs": [
    {
     "name": "stdout",
     "output_type": "stream",
     "text": [
      "AB\n"
     ]
    }
   ],
   "source": [
    "print(\"A\"+\"B\")"
   ]
  }
 ],
 "metadata": {
  "kernelspec": {
   "display_name": "Python 3 (ipykernel)",
   "language": "python",
   "name": "python3"
  },
  "language_info": {
   "codemirror_mode": {
    "name": "ipython",
    "version": 3
   },
   "file_extension": ".py",
   "mimetype": "text/x-python",
   "name": "python",
   "nbconvert_exporter": "python",
   "pygments_lexer": "ipython3",
   "version": "3.11.7"
  }
 },
 "nbformat": 4,
 "nbformat_minor": 5
}
