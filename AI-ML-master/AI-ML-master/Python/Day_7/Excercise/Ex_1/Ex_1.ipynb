{
 "cells": [
  {
   "cell_type": "code",
   "execution_count": 1,
   "id": "033094a3-144d-4d56-9a91-8157cdb5de6f",
   "metadata": {},
   "outputs": [
    {
     "name": "stdin",
     "output_type": "stream",
     "text": [
      " 23\n"
     ]
    },
    {
     "name": "stdout",
     "output_type": "stream",
     "text": [
      "5\n"
     ]
    }
   ],
   "source": [
    "# Write a program that adds the digits in a two digit number.\n",
    "\n",
    "two_digit_number = input()\n",
    "# 🚨 Don't change the code above 👆\n",
    "####################################\n",
    "# Write your code below this line 👇\n",
    "\n",
    "\n",
    "first_digit = int(two_digit_number[0])\n",
    "second_digit = int(two_digit_number[1])\n",
    "\n",
    "# Add the two integers together\n",
    "two_digit_number = first_digit + second_digit\n",
    "\n",
    "print(two_digit_number)"
   ]
  }
 ],
 "metadata": {
  "kernelspec": {
   "display_name": "Python 3 (ipykernel)",
   "language": "python",
   "name": "python3"
  },
  "language_info": {
   "codemirror_mode": {
    "name": "ipython",
    "version": 3
   },
   "file_extension": ".py",
   "mimetype": "text/x-python",
   "name": "python",
   "nbconvert_exporter": "python",
   "pygments_lexer": "ipython3",
   "version": "3.11.7"
  }
 },
 "nbformat": 4,
 "nbformat_minor": 5
}
