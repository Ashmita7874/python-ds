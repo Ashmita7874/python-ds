{
 "cells": [
  {
   "cell_type": "code",
   "execution_count": 2,
   "id": "bb4c5574-6a41-4149-862c-b5c4fe87a81e",
   "metadata": {},
   "outputs": [
    {
     "name": "stdout",
     "output_type": "stream",
     "text": [
      "10\n",
      "4\n",
      "21\n",
      "0.6666666666666666\n"
     ]
    }
   ],
   "source": [
    "# In the previous lession we saw how we could use the plus(+) sign either to \n",
    "# concatenate strings together or as a mathematical operation where we add two\n",
    "# integers or two floats, basically two numbers together.\n",
    "# In this lesson I want to show you some of the other mathematical operators \n",
    "# that you have access to in addition to adding. The next obvious one is subtraction.\n",
    "# So, 7 -3, you would just use the minus sign, but then when you get to multiplication\n",
    "# it's little bit weird. Instead of using x or some sort of symbol, you actually\n",
    "# use the asterisk. \n",
    "# Now the final one is divison and that's done using the forwardslash.\n",
    "\n",
    "\n",
    "\n",
    "print(7+3)\n",
    "print(7-3)\n",
    "print(7*3)\n",
    "print(6/9)\n",
    "\n",
    "# Now one thing to notice here is that whenever you're dividing things,\n",
    "# you actually always end up with a floating point number.\n",
    "# And this is something that happens with divison in python.\n",
    "# But at the end of the day you get the result that you need and it doesn't \n",
    "# really matter whether it it's a float or if it's a integer."
   ]
  },
  {
   "cell_type": "code",
   "execution_count": 3,
   "id": "46037e70-4ab2-41b6-8519-c82be78ac4b7",
   "metadata": {},
   "outputs": [
    {
     "name": "stdout",
     "output_type": "stream",
     "text": [
      "4\n"
     ]
    }
   ],
   "source": [
    "# Now the last one that's really useful is two asterisk signs and this gives you \n",
    "# access to the exponents or when you want to raise the number to a power.\n",
    "\n",
    "# So for example, if you wanted to get a hold of 2 to the power of 2, then you would write it\n",
    "# like this and 2 to the power of 2 is of course basically just 2 times 2 which is going to be equal to 4.\n",
    "\n",
    "print(2**2)"
   ]
  },
  {
   "cell_type": "code",
   "execution_count": null,
   "id": "e04f2bda-21f3-4f42-86cd-e2caba08ab9a",
   "metadata": {},
   "outputs": [],
   "source": [
    "# Having the exponent being built into the language is one of the reasons why \n",
    "# Python is really loved by a lot of data scientists and mathematicians because \n",
    "# it's really optimized towards manipulating and handling numbers.\n",
    "# Now, one of the things that you have to be careful about when you are doing these\n",
    "# mathematical operations is when you have more than one operation on the same\n",
    "# line of code, then there's a certain level of priority.\n",
    "# So some of these operations like division or multiplication are going to be first class,\n",
    "# whereas other ones are going to be more economy like the plus and minus.\n",
    "# And the rule that you might've remember from high school is something called PEMDAS.\n",
    "# BODMAS\n",
    "\n",
    "# It basically states the order of priority is parentheses, exponents, multiplication, division, addition and subtraction.\n",
    "\n",
    "# So the things that happen first are the things inside brackets, then it's our exponents, then it's our multiplication and division.\n",
    "# And finally, the lowest priority is our addition and subtraction.\n",
    "# Now it's a little bit deceiving because of this order.\n",
    "# It makes it seem like as if multiplication happens before division, but actually they are equally important.\n",
    "# And when it actually comes to your calculations, the calculation that's most to the left is the one that will be prioritized between multiplication and division.\n"
   ]
  },
  {
   "cell_type": "code",
   "execution_count": 4,
   "id": "5b507d85-9ef6-4e01-aa3a-d7e183a45a48",
   "metadata": {},
   "outputs": [
    {
     "name": "stdout",
     "output_type": "stream",
     "text": [
      "7.0\n"
     ]
    }
   ],
   "source": [
    "# So let me give you a real-life example to make this more clear.\n",
    "print(3 * 3 + 3 / 3 - 3)"
   ]
  },
  {
   "cell_type": "code",
   "execution_count": 9,
   "id": "7f60c39c-f7df-4fc8-a07a-9635a85f35ab",
   "metadata": {},
   "outputs": [
    {
     "name": "stdout",
     "output_type": "stream",
     "text": [
      "7.0\n"
     ]
    }
   ],
   "source": [
    "# If I was to execute this entire line of code and print it out into the console, here's the time where you play computer again and guess using what you've here's \n",
    "# the time where you play computer again and guess using what you've learned here, what exactly will be printed because you will get a number printed,\n",
    "# it will calculate this entire line of code for you. But the order matters.\n",
    "\n",
    "# Now if math is not your strong point, don't worry, it's not mine either and you're the sort of person who would prefer to see it visualize.\n",
    "# Then I recommend again putting this line of code in Thonny, and then go ahead and clicking on the debugging symbol and then just step into,\n",
    "\n",
    "# So now here's another challenge for you.\n",
    "# How can you change this code so that instead of getting 7, we get 3?\n",
    "# How can you change this line of code given what you know about PEMDASLR?\n",
    "# Alright, so this will involve a little bit of trial and error.\n",
    "\n",
    "print(3 * 3 + 3 / 3 - 3)"
   ]
  },
  {
   "cell_type": "code",
   "execution_count": 11,
   "id": "b3f74a00-ddb0-47e0-93a7-d4db151d5111",
   "metadata": {},
   "outputs": [
    {
     "name": "stdout",
     "output_type": "stream",
     "text": [
      "3.0\n"
     ]
    }
   ],
   "source": [
    "# And the most important tool we have access to is the parentheses or the brackets. \n",
    "# This means that we can actually isolate bits of our code, which normally have very low priority and turn them into higher priority operations.\n",
    "# So in this case, we know that 3 * 3 is going to happen first, and then the multiplication, and then the addition on the left, and then the subtraction.\n",
    "# But if we added a set of parentheses around our 3 + 3, then out of all of these calculations, this particular one suddenly becomes the highest priority and it will happen first.\n",
    "# So if I change what I've got in Thonny to our new version and go ahead and debug through it,\n",
    "# the very first calculation it's going to perform is this 3 + 3 inside the brackets and we end up with 6.\n",
    "# So then it's going to go again from left to right, prioritizing multiplication and division.\n",
    "# So then it's 3 * 6 is 18. 18 / 3 is 6. 6 - 3 is 3..\n",
    "# Just by isolating certain calculations, you can elevate it to right at the top of the priority list and you will be able to perform the calculation that you need.\n",
    "# \n",
    "print(3 * (3 + 3) / 3 - 3)"
   ]
  },
  {
   "cell_type": "code",
   "execution_count": null,
   "id": "1e52a7b8-f578-4053-96fa-5a05e8d47d2d",
   "metadata": {},
   "outputs": [],
   "source": []
  }
 ],
 "metadata": {
  "kernelspec": {
   "display_name": "Python 3 (ipykernel)",
   "language": "python",
   "name": "python3"
  },
  "language_info": {
   "codemirror_mode": {
    "name": "ipython",
    "version": 3
   },
   "file_extension": ".py",
   "mimetype": "text/x-python",
   "name": "python",
   "nbconvert_exporter": "python",
   "pygments_lexer": "ipython3",
   "version": "3.11.7"
  }
 },
 "nbformat": 4,
 "nbformat_minor": 5
}
