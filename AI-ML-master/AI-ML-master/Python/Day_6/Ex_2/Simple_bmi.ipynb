{
 "cells": [
  {
   "cell_type": "code",
   "execution_count": 4,
   "id": "0e34527f-1f6f-4eb4-bb5e-e5675ad2584e",
   "metadata": {},
   "outputs": [
    {
     "name": "stdin",
     "output_type": "stream",
     "text": [
      " 1.75\n",
      " 80\n"
     ]
    },
    {
     "name": "stdout",
     "output_type": "stream",
     "text": [
      "26\n"
     ]
    }
   ],
   "source": [
    "# 1st input: enter height in meters e.g: 1.65\n",
    "height = input()\n",
    "# 2nd input: enter weight in kilograms e.g: 72\n",
    "weight = input()\n",
    "# 🚨 Don't change the code above 👆\n",
    "\n",
    "# Write your code below this line 👇\n",
    "# Now, the first thing we want to do is to convert the numbers that we're getting through the inputs into numbers that we can work with\n",
    "# and do mathematical operations on.\n",
    "# So that means on line 11, you'll see that I've created the weight_as_integer variable to store the weight input as a whole number. \n",
    "weight_as_int = int(weight)\n",
    "\n",
    "# On line 16, I'm converting the height that is coming in with height in meters. \n",
    "# And because none of us have one meter or two meter, we're usually somewhere in between the two. \n",
    "# This is usually represented as a floating point number. So there's a decimal point in there.\n",
    "height_as_float = float(height)\n",
    "\n",
    "bmi = weight_as_int/height_as_float**2\n",
    "print(int(bmi))\n"
   ]
  },
  {
   "cell_type": "code",
   "execution_count": 9,
   "id": "9fd5fbce-ddc3-43d5-810d-b93cd94a0326",
   "metadata": {},
   "outputs": [
    {
     "name": "stdin",
     "output_type": "stream",
     "text": [
      " 1.67\n",
      " 82\n"
     ]
    },
    {
     "name": "stdout",
     "output_type": "stream",
     "text": [
      "29\n"
     ]
    }
   ],
   "source": [
    "# 1st input: enter height in meters e.g: 1.65\n",
    "height = input()\n",
    "# 2nd input: enter weight in kilograms e.g: 72\n",
    "weight = input()\n",
    "# 🚨 Don't change the code above 👆\n",
    "\n",
    "# Write your code below this line 👇\n",
    "\n",
    "weight_as_int = int(weight)\n",
    "height_as_float = float(height)\n",
    "\n",
    "bmi = weight_as_int / height_as_float**2\n",
    "print(int(bmi))"
   ]
  }
 ],
 "metadata": {
  "kernelspec": {
   "display_name": "Python 3 (ipykernel)",
   "language": "python",
   "name": "python3"
  },
  "language_info": {
   "codemirror_mode": {
    "name": "ipython",
    "version": 3
   },
   "file_extension": ".py",
   "mimetype": "text/x-python",
   "name": "python",
   "nbconvert_exporter": "python",
   "pygments_lexer": "ipython3",
   "version": "3.11.7"
  }
 },
 "nbformat": 4,
 "nbformat_minor": 5
}
