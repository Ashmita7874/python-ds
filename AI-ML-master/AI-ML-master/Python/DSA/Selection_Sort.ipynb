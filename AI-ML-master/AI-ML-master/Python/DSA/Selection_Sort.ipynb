{
 "cells": [
  {
   "cell_type": "code",
   "execution_count": 1,
   "id": "d3626656-eb6d-4d73-9443-0346594f427a",
   "metadata": {},
   "outputs": [],
   "source": [
    "my_array = [64, 34, 25, 5, 22, 11, 90, 12]"
   ]
  },
  {
   "cell_type": "code",
   "execution_count": 2,
   "id": "ce769e3a-727d-4e47-b1ed-71a0ecfdf9c8",
   "metadata": {},
   "outputs": [
    {
     "data": {
      "text/plain": [
       "8"
      ]
     },
     "execution_count": 2,
     "metadata": {},
     "output_type": "execute_result"
    }
   ],
   "source": [
    "len(my_array)"
   ]
  },
  {
   "cell_type": "code",
   "execution_count": 3,
   "id": "e41c1945-ee52-45a9-94f1-bfebfd40fa61",
   "metadata": {},
   "outputs": [
    {
     "name": "stdout",
     "output_type": "stream",
     "text": [
      "Sorted array: [5, 11, 12, 22, 25, 34, 64, 90]\n"
     ]
    }
   ],
   "source": [
    "n = len(my_array)\n",
    "for i in range(n-1):\n",
    "    min_index = i\n",
    "    for j in range(i+1, n):\n",
    "        if my_array[j] < my_array[min_index]:\n",
    "            min_index = j\n",
    "    min_value = my_array.pop(min_index)\n",
    "    my_array.insert(i, min_value)\n",
    "\n",
    "print(\"Sorted array:\", my_array)"
   ]
  },
  {
   "cell_type": "code",
   "execution_count": 5,
   "id": "a1f2f934-f5ba-43ba-9f87-f5c71462d570",
   "metadata": {},
   "outputs": [
    {
     "name": "stdout",
     "output_type": "stream",
     "text": [
      "Sorted array: [5, 11, 12, 22, 25, 34, 64, 90]\n"
     ]
    }
   ],
   "source": [
    "# Better Approach\n",
    "n = len(my_array)\n",
    "for i in range(n):\n",
    "    min_index = i\n",
    "    for j in range(i+1, n):\n",
    "        if my_array[j] < my_array[min_index]:\n",
    "            min_index = j   \n",
    "    my_array[i], my_array[min_index] = my_array[min_index], my_array[i]\n",
    "\n",
    "print(\"Sorted array:\", my_array)"
   ]
  }
 ],
 "metadata": {
  "kernelspec": {
   "display_name": "Python 3 (ipykernel)",
   "language": "python",
   "name": "python3"
  },
  "language_info": {
   "codemirror_mode": {
    "name": "ipython",
    "version": 3
   },
   "file_extension": ".py",
   "mimetype": "text/x-python",
   "name": "python",
   "nbconvert_exporter": "python",
   "pygments_lexer": "ipython3",
   "version": "3.11.7"
  }
 },
 "nbformat": 4,
 "nbformat_minor": 5
}
