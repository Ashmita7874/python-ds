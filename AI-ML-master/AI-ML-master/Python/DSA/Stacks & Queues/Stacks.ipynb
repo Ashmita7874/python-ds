{
 "cells": [
  {
   "cell_type": "markdown",
   "id": "40f43307-788d-4092-bde3-4e0cf9bf34a1",
   "metadata": {},
   "source": [
    "# stacks using simple list"
   ]
  },
  {
   "cell_type": "code",
   "execution_count": 1,
   "id": "cdb39076-49e8-4a36-8810-a6ff44b54573",
   "metadata": {},
   "outputs": [
    {
     "name": "stdout",
     "output_type": "stream",
     "text": [
      "Stack:  ['A', 'B', 'C']\n",
      "Pop:  C\n",
      "Peek:  B\n",
      "isEmpty:  False\n",
      "Size:  2\n"
     ]
    }
   ],
   "source": [
    "# Initialize an empty stack using a list\n",
    "stack = []\n",
    "\n",
    "# Push operations: add elements to the top of the stack\n",
    "stack.append('A')  # Push 'A' onto the stack\n",
    "stack.append('B')  # Push 'B' onto the stack\n",
    "stack.append('C')  # Push 'C' onto the stack\n",
    "\n",
    "# Print the current state of the stack\n",
    "print(\"Stack: \", stack)  # Output: Stack: ['A', 'B', 'C']\n",
    "\n",
    "# Pop operation: remove the top element from the stack\n",
    "element = stack.pop()  # Pop the top element, which is 'C'\n",
    "print(\"Pop: \", element)  # Output: Pop: C\n",
    "\n",
    "# Peek operation: get the top element of the stack without removing it\n",
    "topElement = stack[-1]  # Peek at the top element, which is now 'B'\n",
    "print(\"Peek: \", topElement)  # Output: Peek: B\n",
    "\n",
    "# isEmpty operation: check if the stack is empty\n",
    "isEmpty = not bool(stack)  # Convert stack to boolean, invert it to check if it's empty\n",
    "print(\"isEmpty: \", isEmpty)  # Output: isEmpty: False\n",
    "\n",
    "# Size operation: get the number of elements in the stack\n",
    "print(\"Size: \", len(stack))  # Output: Size: 2\n"
   ]
  },
  {
   "cell_type": "markdown",
   "id": "18071ba4-d6e7-450b-981e-9b72fce2dcf8",
   "metadata": {},
   "source": [
    "# Stacks using classes"
   ]
  },
  {
   "cell_type": "code",
   "execution_count": 3,
   "id": "4ad695a3-b7cc-4013-b684-bbffd7adf9ba",
   "metadata": {},
   "outputs": [
    {
     "name": "stdout",
     "output_type": "stream",
     "text": [
      "Stack:  ['A', 'B', 'C']\n",
      "Pop:  C\n",
      "Peek:  B\n",
      "isEmpty:  False\n",
      "Size:  2\n"
     ]
    }
   ],
   "source": [
    "# Define the Stack class to represent a stack data structure\n",
    "class Stack:\n",
    "    def __init__(self):\n",
    "        # Initialize the stack as an empty list\n",
    "        self.stack = []\n",
    "\n",
    "    # Method to push an element onto the stack\n",
    "    def push(self, element):\n",
    "        self.stack.append(element)\n",
    "\n",
    "    # Method to pop an element from the stack\n",
    "    def pop(self):\n",
    "        if self.isEmpty():\n",
    "            return \"Stack is empty\"\n",
    "        return self.stack.pop()\n",
    "\n",
    "    # Method to peek at the top element of the stack without removing it\n",
    "    def peek(self):\n",
    "        if self.isEmpty():\n",
    "            return \"Stack is empty\"\n",
    "        return self.stack[-1]\n",
    "\n",
    "    # Method to check if the stack is empty\n",
    "    def isEmpty(self):\n",
    "        return len(self.stack) == 0\n",
    "\n",
    "    # Method to get the size (number of elements) of the stack\n",
    "    def size(self):\n",
    "        return len(self.stack)\n",
    "\n",
    "# Create an instance of the Stack class\n",
    "myStack = Stack()\n",
    "\n",
    "# Push elements onto the stack\n",
    "myStack.push('A')  # Push 'A' onto the stack\n",
    "myStack.push('B')  # Push 'B' onto the stack\n",
    "myStack.push('C')  # Push 'C' onto the stack\n",
    "\n",
    "# Print the current state of the stack\n",
    "print(\"Stack: \", myStack.stack)  # Output: Stack: ['A', 'B', 'C']\n",
    "\n",
    "# Pop the top element from the stack and print it\n",
    "print(\"Pop: \", myStack.pop())  # Output: Pop: C\n",
    "\n",
    "# Peek at the top element of the stack and print it\n",
    "print(\"Peek: \", myStack.peek())  # Output: Peek: B\n",
    "\n",
    "# Check if the stack is empty and print the result\n",
    "print(\"isEmpty: \", myStack.isEmpty())  # Output: isEmpty: False\n",
    "\n",
    "# Get the size of the stack and print it\n",
    "print(\"Size: \", myStack.size())  # Output: Size: 2\n"
   ]
  },
  {
   "cell_type": "markdown",
   "id": "8b06c220-6f5c-4c7f-8786-2027ae529584",
   "metadata": {},
   "source": [
    "# stacks using linked list"
   ]
  },
  {
   "cell_type": "code",
   "execution_count": 4,
   "id": "ef3ad16a-7949-4bff-9718-ed9c05282a0e",
   "metadata": {},
   "outputs": [
    {
     "name": "stdout",
     "output_type": "stream",
     "text": [
      "Pop:  C\n",
      "Peek:  B\n",
      "isEmpty:  False\n",
      "Size:  2\n"
     ]
    }
   ],
   "source": [
    "# Define the Node class to represent each node in the linked list used for the stack\n",
    "class Node:\n",
    "    def __init__(self, value):\n",
    "        # Initialize the node with a value and set the next pointer to None\n",
    "        self.value = value\n",
    "        self.next = None\n",
    "\n",
    "# Define the Stack class to represent a stack data structure using linked nodes\n",
    "class Stack:\n",
    "    def __init__(self):\n",
    "        # Initialize the stack with the head set to None and size set to 0\n",
    "        self.head = None\n",
    "        self.size = 0\n",
    "    \n",
    "    # Method to push a value onto the stack\n",
    "    def push(self, value):\n",
    "        # Create a new node with the given value\n",
    "        new_node = Node(value)\n",
    "        # If the stack is not empty, link the new node to the current head\n",
    "        if self.head:\n",
    "            new_node.next = self.head\n",
    "        # Set the new node as the head of the stack\n",
    "        self.head = new_node\n",
    "        # Increment the size of the stack\n",
    "        self.size += 1\n",
    "    \n",
    "    # Method to pop a value from the stack\n",
    "    def pop(self):\n",
    "        if self.isEmpty():\n",
    "            return \"Stack is empty\"\n",
    "        # Get the current head node\n",
    "        popped_node = self.head\n",
    "        # Set the next node as the new head of the stack\n",
    "        self.head = self.head.next\n",
    "        # Decrement the size of the stack\n",
    "        self.size -= 1\n",
    "        # Return the value of the popped node\n",
    "        return popped_node.value\n",
    "    \n",
    "    # Method to peek at the top value of the stack without removing it\n",
    "    def peek(self):\n",
    "        if self.isEmpty():\n",
    "            return \"Stack is empty\"\n",
    "        # Return the value of the head node\n",
    "        return self.head.value\n",
    "    \n",
    "    # Method to check if the stack is empty\n",
    "    def isEmpty(self):\n",
    "        return self.size == 0\n",
    "    \n",
    "    # Method to get the size (number of elements) of the stack\n",
    "    def stackSize(self):\n",
    "        return self.size\n",
    "\n",
    "# Create an instance of the Stack class\n",
    "myStack = Stack()\n",
    "\n",
    "# Push elements onto the stack\n",
    "myStack.push('A')  # Push 'A' onto the stack\n",
    "myStack.push('B')  # Push 'B' onto the stack\n",
    "myStack.push('C')  # Push 'C' onto the stack\n",
    "\n",
    "# Pop the top element from the stack and print it\n",
    "print(\"Pop: \", myStack.pop())  # Output: Pop: C\n",
    "\n",
    "# Peek at the top element of the stack and print it\n",
    "print(\"Peek: \", myStack.peek())  # Output: Peek: B\n",
    "\n",
    "# Check if the stack is empty and print the result\n",
    "print(\"isEmpty: \", myStack.isEmpty())  # Output: isEmpty: False\n",
    "\n",
    "# Get the size of the stack and print it\n",
    "print(\"Size: \", myStack.stackSize())  # Output: Size: 2\n"
   ]
  }
 ],
 "metadata": {
  "kernelspec": {
   "display_name": "Python 3 (ipykernel)",
   "language": "python",
   "name": "python3"
  },
  "language_info": {
   "codemirror_mode": {
    "name": "ipython",
    "version": 3
   },
   "file_extension": ".py",
   "mimetype": "text/x-python",
   "name": "python",
   "nbconvert_exporter": "python",
   "pygments_lexer": "ipython3",
   "version": "3.11.7"
  }
 },
 "nbformat": 4,
 "nbformat_minor": 5
}
