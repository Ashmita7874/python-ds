{
 "cells": [
  {
   "cell_type": "markdown",
   "id": "d58a2e4e-e591-48e4-9d62-15737f64b654",
   "metadata": {},
   "source": [
    "# Queues using list"
   ]
  },
  {
   "cell_type": "code",
   "execution_count": 1,
   "id": "a0f593fb-492c-408e-8dca-cad5626c0048",
   "metadata": {},
   "outputs": [
    {
     "name": "stdout",
     "output_type": "stream",
     "text": [
      "Queue:  ['A', 'B', 'C']\n",
      "Dequeue:  A\n",
      "Peek:  B\n",
      "isEmpty:  False\n",
      "Size:  2\n"
     ]
    }
   ],
   "source": [
    "# Initialize an empty queue using a list\n",
    "queue = []\n",
    "\n",
    "# Enqueue operations: add elements to the end of the queue\n",
    "queue.append('A')  # Enqueue 'A' into the queue\n",
    "queue.append('B')  # Enqueue 'B' into the queue\n",
    "queue.append('C')  # Enqueue 'C' into the queue\n",
    "\n",
    "# Print the current state of the queue\n",
    "print(\"Queue: \", queue)  # Output: Queue: ['A', 'B', 'C']\n",
    "\n",
    "# Dequeue operation: remove the front element from the queue\n",
    "element = queue.pop(0)  # Dequeue the front element, which is 'A'\n",
    "print(\"Dequeue: \", element)  # Output: Dequeue: A\n",
    "\n",
    "# Peek operation: get the front element of the queue without removing it\n",
    "frontElement = queue[0]  # Peek at the front element, which is now 'B'\n",
    "print(\"Peek: \", frontElement)  # Output: Peek: B\n",
    "\n",
    "# isEmpty operation: check if the queue is empty\n",
    "isEmpty = not bool(queue)  # Convert queue to boolean, invert it to check if it's empty\n",
    "print(\"isEmpty: \", isEmpty)  # Output: isEmpty: False\n",
    "\n",
    "# Size operation: get the number of elements in the queue\n",
    "print(\"Size: \", len(queue))  # Output: Size: 2\n"
   ]
  },
  {
   "cell_type": "markdown",
   "id": "bf524dce-3dda-48ca-8885-67c2614a66ed",
   "metadata": {},
   "source": [
    "# Queues using classes"
   ]
  },
  {
   "cell_type": "code",
   "execution_count": 2,
   "id": "a768e22b-6989-43e3-9d6b-5af8e5f7d141",
   "metadata": {},
   "outputs": [
    {
     "name": "stdout",
     "output_type": "stream",
     "text": [
      "Queue:  ['A', 'B', 'C']\n",
      "Dequeue:  A\n",
      "Peek:  B\n",
      "isEmpty:  False\n",
      "Size:  2\n"
     ]
    }
   ],
   "source": [
    "# Define the Queue class to represent a queue data structure\n",
    "class Queue:\n",
    "    def __init__(self):\n",
    "        # Initialize the queue as an empty list\n",
    "        self.queue = []\n",
    "\n",
    "    # Method to add an element to the end of the queue\n",
    "    def enqueue(self, element):\n",
    "        self.queue.append(element)\n",
    "\n",
    "    # Method to remove an element from the front of the queue\n",
    "    def dequeue(self):\n",
    "        if self.isEmpty():\n",
    "            return \"Queue is empty\"\n",
    "        return self.queue.pop(0)\n",
    "\n",
    "    # Method to get the front element of the queue without removing it\n",
    "    def peek(self):\n",
    "        if self.isEmpty():\n",
    "            return \"Queue is empty\"\n",
    "        return self.queue[0]\n",
    "\n",
    "    # Method to check if the queue is empty\n",
    "    def isEmpty(self):\n",
    "        return len(self.queue) == 0\n",
    "\n",
    "    # Method to get the size (number of elements) of the queue\n",
    "    def size(self):\n",
    "        return len(self.queue)\n",
    "\n",
    "# Create an instance of the Queue class\n",
    "myQueue = Queue()\n",
    "\n",
    "# Enqueue elements into the queue\n",
    "myQueue.enqueue('A')  # Enqueue 'A' into the queue\n",
    "myQueue.enqueue('B')  # Enqueue 'B' into the queue\n",
    "myQueue.enqueue('C')  # Enqueue 'C' into the queue\n",
    "\n",
    "# Print the current state of the queue\n",
    "print(\"Queue: \", myQueue.queue)  # Output: Queue: ['A', 'B', 'C']\n",
    "\n",
    "# Dequeue the front element from the queue and print it\n",
    "print(\"Dequeue: \", myQueue.dequeue())  # Output: Dequeue: A\n",
    "\n",
    "# Peek at the front element of the queue and print it\n",
    "print(\"Peek: \", myQueue.peek())  # Output: Peek: B\n",
    "\n",
    "# Check if the queue is empty and print the result\n",
    "print(\"isEmpty: \", myQueue.isEmpty())  # Output: isEmpty: False\n",
    "\n",
    "# Get the size of the queue and print it\n",
    "print(\"Size: \", myQueue.size())  # Output: Size: 2"
   ]
  },
  {
   "cell_type": "markdown",
   "id": "acc91161-e434-4dbc-8ae6-8b221d362637",
   "metadata": {},
   "source": [
    "# Queues using linked list"
   ]
  },
  {
   "cell_type": "code",
   "execution_count": 3,
   "id": "3042fafe-c356-4453-84d5-09527463df43",
   "metadata": {},
   "outputs": [
    {
     "name": "stdout",
     "output_type": "stream",
     "text": [
      "Queue: A B C \n",
      "Dequeue:  A\n",
      "Peek:  B\n",
      "isEmpty:  False\n",
      "Size:  2\n"
     ]
    }
   ],
   "source": [
    "# Define the Node class to represent each node in the linked list used for the queue\n",
    "class Node:\n",
    "    def __init__(self, data):\n",
    "        # Initialize the node with data and set the next pointer to None\n",
    "        self.data = data\n",
    "        self.next = None\n",
    "\n",
    "# Define the Queue class to represent a queue data structure using linked nodes\n",
    "class Queue:\n",
    "    def __init__(self):\n",
    "        # Initialize the queue with front and rear pointers set to None and length set to 0\n",
    "        self.front = None\n",
    "        self.rear = None\n",
    "        self.length = 0\n",
    "    \n",
    "    # Method to add an element to the end of the queue\n",
    "    def enqueue(self, element):\n",
    "        new_node = Node(element)\n",
    "        if self.rear is None:  # If the queue is empty\n",
    "            self.front = self.rear = new_node\n",
    "            self.length += 1\n",
    "            return\n",
    "        # Link the new node to the end of the queue and update the rear pointer\n",
    "        self.rear.next = new_node\n",
    "        self.rear = new_node\n",
    "        self.length += 1\n",
    "    \n",
    "    # Method to remove an element from the front of the queue\n",
    "    def dequeue(self):\n",
    "        if self.isEmpty():\n",
    "            return \"Queue is empty\"\n",
    "        temp = self.front\n",
    "        self.front = temp.next\n",
    "        self.length -= 1\n",
    "        if self.front is None:  # If the queue becomes empty\n",
    "            self.rear = None\n",
    "        return temp.data\n",
    "    \n",
    "    # Method to get the front element of the queue without removing it\n",
    "    def peek(self):\n",
    "        if self.isEmpty():\n",
    "            return \"Queue is empty\"\n",
    "        return self.front.data\n",
    "    \n",
    "    # Method to check if the queue is empty\n",
    "    def isEmpty(self):\n",
    "        return self.length == 0\n",
    "    \n",
    "    # Method to get the size (number of elements) of the queue\n",
    "    def size(self):\n",
    "        return self.length\n",
    "\n",
    "    # Method to print the elements of the queue\n",
    "    def printQueue(self):\n",
    "        temp = self.front\n",
    "        while temp:\n",
    "            print(temp.data, end=\" \")\n",
    "            temp = temp.next\n",
    "        print()\n",
    "\n",
    "# Create an instance of the Queue class\n",
    "myQueue = Queue()\n",
    "\n",
    "# Enqueue elements into the queue\n",
    "myQueue.enqueue('A')  # Enqueue 'A' into the queue\n",
    "myQueue.enqueue('B')  # Enqueue 'B' into the queue\n",
    "myQueue.enqueue('C')  # Enqueue 'C' into the queue\n",
    "\n",
    "# Print the current state of the queue\n",
    "print(\"Queue: \", end=\"\")\n",
    "myQueue.printQueue()  # Output: Queue: A B C \n",
    "\n",
    "# Dequeue the front element from the queue and print it\n",
    "print(\"Dequeue: \", myQueue.dequeue())  # Output: Dequeue: A\n",
    "\n",
    "# Peek at the front element of the queue and print it\n",
    "print(\"Peek: \", myQueue.peek())  # Output: Peek: B\n",
    "\n",
    "# Check if the queue is empty and print the result\n",
    "print(\"isEmpty: \", myQueue.isEmpty())  # Output: isEmpty: False\n",
    "\n",
    "# Get the size of the queue and print it\n",
    "print(\"Size: \", myQueue.size())  # Output: Size: 2"
   ]
  }
 ],
 "metadata": {
  "kernelspec": {
   "display_name": "Python 3 (ipykernel)",
   "language": "python",
   "name": "python3"
  },
  "language_info": {
   "codemirror_mode": {
    "name": "ipython",
    "version": 3
   },
   "file_extension": ".py",
   "mimetype": "text/x-python",
   "name": "python",
   "nbconvert_exporter": "python",
   "pygments_lexer": "ipython3",
   "version": "3.11.7"
  }
 },
 "nbformat": 4,
 "nbformat_minor": 5
}
