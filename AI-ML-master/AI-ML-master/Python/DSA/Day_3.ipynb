{
 "cells": [
  {
   "cell_type": "code",
   "execution_count": 1,
   "id": "e24f2070-ada4-4e34-9606-fc0095daca1b",
   "metadata": {},
   "outputs": [
    {
     "name": "stdout",
     "output_type": "stream",
     "text": [
      "4181\n"
     ]
    }
   ],
   "source": [
    "def F(n):\n",
    "    if n <= 1:\n",
    "        return n\n",
    "    else:\n",
    "        return F(n - 1) + F(n - 2)\n",
    "\n",
    "print(F(19))"
   ]
  },
  {
   "cell_type": "code",
   "execution_count": 2,
   "id": "8d72291a-c846-499a-84fc-cbe167d2c10d",
   "metadata": {},
   "outputs": [
    {
     "name": "stdout",
     "output_type": "stream",
     "text": [
      "1\n"
     ]
    }
   ],
   "source": [
    "My_List_Array = [1, 2, 3, 4, 5]\n",
    "print(My_List_Array[0])"
   ]
  },
  {
   "cell_type": "code",
   "execution_count": 3,
   "id": "422f88fa-82a6-4162-8004-0161d1d3d868",
   "metadata": {},
   "outputs": [],
   "source": [
    "Array_1 = [18999, 17348, 11245, 8888, 13789]"
   ]
  },
  {
   "cell_type": "code",
   "execution_count": 4,
   "id": "ddf1df89-1d27-43c9-a5fa-1aa2bcc96aac",
   "metadata": {},
   "outputs": [
    {
     "name": "stdout",
     "output_type": "stream",
     "text": [
      "Lowest value:  8888\n"
     ]
    }
   ],
   "source": [
    "minVal = Array_1[0]    # Step 1\n",
    "\n",
    "for i in Array_1:      # Step 2\n",
    "    if i < minVal:      # Step 3\n",
    "        minVal = i\n",
    "        \n",
    "print('Lowest value: ',minVal) # Step 4"
   ]
  },
  {
   "cell_type": "code",
   "execution_count": null,
   "id": "55376f7f-bad1-452a-b84f-7713fc202f62",
   "metadata": {},
   "outputs": [],
   "source": []
  }
 ],
 "metadata": {
  "kernelspec": {
   "display_name": "Python 3 (ipykernel)",
   "language": "python",
   "name": "python3"
  },
  "language_info": {
   "codemirror_mode": {
    "name": "ipython",
    "version": 3
   },
   "file_extension": ".py",
   "mimetype": "text/x-python",
   "name": "python",
   "nbconvert_exporter": "python",
   "pygments_lexer": "ipython3",
   "version": "3.11.7"
  }
 },
 "nbformat": 4,
 "nbformat_minor": 5
}
