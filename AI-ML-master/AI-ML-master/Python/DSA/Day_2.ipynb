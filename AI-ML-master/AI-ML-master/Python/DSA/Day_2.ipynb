{
 "cells": [
  {
   "cell_type": "code",
   "execution_count": 1,
   "id": "8537267b-36a4-4496-ac67-49389eec5cfd",
   "metadata": {},
   "outputs": [],
   "source": [
    "my_array = [7, 12, 9, 4, 11]"
   ]
  },
  {
   "cell_type": "code",
   "execution_count": 2,
   "id": "181275d8-503f-48c5-be9d-487425b9e3ab",
   "metadata": {},
   "outputs": [
    {
     "name": "stdout",
     "output_type": "stream",
     "text": [
      "4\n"
     ]
    }
   ],
   "source": [
    "print(min(my_array))"
   ]
  },
  {
   "cell_type": "code",
   "execution_count": 3,
   "id": "5838cbea-575b-47e8-b789-259c4e925938",
   "metadata": {},
   "outputs": [
    {
     "name": "stdout",
     "output_type": "stream",
     "text": [
      "Lowest value: 4\n"
     ]
    }
   ],
   "source": [
    "minVal = my_array[0]\n",
    "\n",
    "for i in my_array:\n",
    "    if i < minVal:\n",
    "        minVal = i\n",
    "\n",
    "print('Lowest value:',minVal)"
   ]
  },
  {
   "cell_type": "code",
   "execution_count": null,
   "id": "dd6e2f1e-a84c-41a3-a7d6-3f2292f54c33",
   "metadata": {},
   "outputs": [],
   "source": []
  }
 ],
 "metadata": {
  "kernelspec": {
   "display_name": "Python 3 (ipykernel)",
   "language": "python",
   "name": "python3"
  },
  "language_info": {
   "codemirror_mode": {
    "name": "ipython",
    "version": 3
   },
   "file_extension": ".py",
   "mimetype": "text/x-python",
   "name": "python",
   "nbconvert_exporter": "python",
   "pygments_lexer": "ipython3",
   "version": "3.11.7"
  }
 },
 "nbformat": 4,
 "nbformat_minor": 5
}
