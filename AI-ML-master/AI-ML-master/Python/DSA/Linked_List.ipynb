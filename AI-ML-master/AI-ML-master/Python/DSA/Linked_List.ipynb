{
 "cells": [
  {
   "cell_type": "code",
   "execution_count": 7,
   "id": "0c791bd0-9dff-435a-bfb6-61b3e5230495",
   "metadata": {},
   "outputs": [
    {
     "name": "stdout",
     "output_type": "stream",
     "text": [
      "the quick brown fox \n"
     ]
    }
   ],
   "source": [
    "class Node:\n",
    "    def __init__(self, data):\n",
    "        self.data = data  # Assigns the given data to the node\n",
    "        self.next = None  # Initialize the next attribute to null\n",
    "\n",
    "class LinkedList:\n",
    "    def __init__(self):\n",
    "        self.head = None  # Initialize head as None\n",
    "\n",
    "    def insertAtBeginning(self, new_data):\n",
    "        new_node = Node(new_data)  # Create a new node\n",
    "        new_node.next = self.head  # Next for new node becomes the current head\n",
    "        self.head = new_node  # Head now points to the new node\n",
    "\n",
    "    def printList(self):\n",
    "        temp = self.head  # Start from the head of the list\n",
    "        while temp:\n",
    "            print(temp.data, end=' ')  # Print the data in the current node\n",
    "            temp = temp.next  # Move to the next node\n",
    "        print()  # Ensures the output is followed by a new line\n",
    "\n",
    "if __name__ == '__main__':\n",
    "    # Create a new LinkedList instance\n",
    "    llist = LinkedList()\n",
    "\n",
    "    # Insert each word at the beginning using the method we created\n",
    "    llist.insertAtBeginning('fox')\n",
    "    llist.insertAtBeginning('brown')\n",
    "    llist.insertAtBeginning('quick')\n",
    "    llist.insertAtBeginning('the')\n",
    "\n",
    "    # Now 'the' is the head of the list, followed by 'quick', then 'brown' and 'fox'\n",
    "\n",
    "    # Print the list\n",
    "    llist.printList()\n"
   ]
  },
  {
   "cell_type": "code",
   "execution_count": 8,
   "id": "ce16aec5-bf06-4795-9adb-3bdd928ba276",
   "metadata": {},
   "outputs": [],
   "source": [
    "def deleteFromBeginning(self):\n",
    "    if self.head is None:\n",
    "        return \"The list is empty\" # If the list is empty, return this string\n",
    "    self.head = self.head.next  # Otherwise, remove the head by making the next node the new head"
   ]
  },
  {
   "cell_type": "code",
   "execution_count": 9,
   "id": "92f0123f-99f6-48c4-b019-1a64fdfe1761",
   "metadata": {},
   "outputs": [],
   "source": [
    "def deleteFromEnd(self):\n",
    "    if self.head is None:\n",
    "        return \"The list is empty\" \n",
    "    if self.head.next is None:\n",
    "        self.head = None  # If there's only one node, remove the head by making it None\n",
    "        return\n",
    "    temp = self.head\n",
    "    while temp.next.next:  # Otherwise, go to the second-last node\n",
    "        temp = temp.next\n",
    "    temp.next = None  # Remove the last node by setting the next pointer of the second-last node to None"
   ]
  },
  {
   "cell_type": "code",
   "execution_count": 10,
   "id": "806c346e-dc3e-4550-b919-20422091a95d",
   "metadata": {},
   "outputs": [
    {
     "ename": "AttributeError",
     "evalue": "'LinkedList' object has no attribute 'insertAtEnd'",
     "output_type": "error",
     "traceback": [
      "\u001b[1;31m---------------------------------------------------------------------------\u001b[0m",
      "\u001b[1;31mAttributeError\u001b[0m                            Traceback (most recent call last)",
      "Cell \u001b[1;32mIn[10], line 11\u001b[0m\n\u001b[0;32m      8\u001b[0m  llist\u001b[38;5;241m.\u001b[39minsertAtBeginning(\u001b[38;5;124m'\u001b[39m\u001b[38;5;124mthe\u001b[39m\u001b[38;5;124m'\u001b[39m)\n\u001b[0;32m     10\u001b[0m  \u001b[38;5;66;03m# Insert a word at the end\u001b[39;00m\n\u001b[1;32m---> 11\u001b[0m  llist\u001b[38;5;241m.\u001b[39minsertAtEnd(\u001b[38;5;124m'\u001b[39m\u001b[38;5;124mjumps\u001b[39m\u001b[38;5;124m'\u001b[39m)\n\u001b[0;32m     13\u001b[0m \u001b[38;5;66;03m# Print the list before deletion\u001b[39;00m\n\u001b[0;32m     14\u001b[0m  \u001b[38;5;28mprint\u001b[39m(\u001b[38;5;124m\"\u001b[39m\u001b[38;5;124mList before deletion:\u001b[39m\u001b[38;5;124m\"\u001b[39m)\n",
      "\u001b[1;31mAttributeError\u001b[0m: 'LinkedList' object has no attribute 'insertAtEnd'"
     ]
    }
   ],
   "source": [
    "if __name__ == '__main__':\n",
    "    llist = LinkedList()\n",
    "\n",
    "    # Insert words at the beginning\n",
    "    llist.insertAtBeginning('fox')\n",
    "    llist.insertAtBeginning('brown')\n",
    "    llist.insertAtBeginning('quick')\n",
    "    llist.insertAtBeginning('the')\n",
    "\n",
    "    # Insert a word at the end\n",
    "    llist.insertAtEnd('jumps')\n",
    "\n",
    "   # Print the list before deletion\n",
    "    print(\"List before deletion:\")\n",
    "    llist.printList()\n",
    "\n",
    "    # Deleting nodes from the beginning and end\n",
    "    llist.deleteFromBeginning()\n",
    "    llist.deleteFromEnd()\n",
    "\n",
    "    # Print the list after deletion\n",
    "    print(\"List after deletion:\")\n",
    "    llist.printList()"
   ]
  },
  {
   "cell_type": "code",
   "execution_count": null,
   "id": "5ba9badf-f759-491f-9ba4-71c476640721",
   "metadata": {},
   "outputs": [],
   "source": []
  }
 ],
 "metadata": {
  "kernelspec": {
   "display_name": "Python 3 (ipykernel)",
   "language": "python",
   "name": "python3"
  },
  "language_info": {
   "codemirror_mode": {
    "name": "ipython",
    "version": 3
   },
   "file_extension": ".py",
   "mimetype": "text/x-python",
   "name": "python",
   "nbconvert_exporter": "python",
   "pygments_lexer": "ipython3",
   "version": "3.11.7"
  }
 },
 "nbformat": 4,
 "nbformat_minor": 5
}
