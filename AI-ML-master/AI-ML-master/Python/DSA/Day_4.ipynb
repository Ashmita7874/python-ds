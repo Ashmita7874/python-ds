{
 "cells": [
  {
   "cell_type": "code",
   "execution_count": 1,
   "id": "708ee8d1-a726-4bd7-a69c-cbb9155a26f0",
   "metadata": {},
   "outputs": [],
   "source": [
    "my_list = [7, 12, 9, 4, 11]"
   ]
  },
  {
   "cell_type": "code",
   "execution_count": 3,
   "id": "2aa68889-7d23-49f8-b565-44f04509d4ea",
   "metadata": {},
   "outputs": [
    {
     "name": "stdout",
     "output_type": "stream",
     "text": [
      "<class 'list'>\n"
     ]
    }
   ],
   "source": [
    "print(type(my_list))"
   ]
  },
  {
   "cell_type": "code",
   "execution_count": 4,
   "id": "9b1823c3-98d4-42e3-bfa5-5be02e582b96",
   "metadata": {},
   "outputs": [
    {
     "name": "stdout",
     "output_type": "stream",
     "text": [
      "[7, 12, 9, 4, 11]\n"
     ]
    }
   ],
   "source": [
    "print(my_list)"
   ]
  },
  {
   "cell_type": "code",
   "execution_count": 5,
   "id": "aff9cdd9-8eba-4122-9ee9-b9de6e14170f",
   "metadata": {},
   "outputs": [
    {
     "name": "stdout",
     "output_type": "stream",
     "text": [
      "4\n"
     ]
    }
   ],
   "source": [
    "print(min(my_list))"
   ]
  },
  {
   "cell_type": "code",
   "execution_count": 6,
   "id": "c637368f-1907-47ce-a9b1-22aa751831ce",
   "metadata": {},
   "outputs": [
    {
     "name": "stdout",
     "output_type": "stream",
     "text": [
      "7\n"
     ]
    }
   ],
   "source": [
    "my_array = [7, 12, 9, 4, 11]\n",
    "print( my_array[0] )"
   ]
  },
  {
   "cell_type": "code",
   "execution_count": 7,
   "id": "13d20029-8110-424c-93f7-bee4a75a697b",
   "metadata": {},
   "outputs": [
    {
     "name": "stdout",
     "output_type": "stream",
     "text": [
      "Lowest value:  4\n"
     ]
    }
   ],
   "source": [
    "minVal = my_array[0]    # Step 1\n",
    "\n",
    "for i in my_array:      # Step 2\n",
    "    if i < minVal:      # Step 3\n",
    "        minVal = i\n",
    "        \n",
    "print('Lowest value: ',minVal) # Step 4"
   ]
  },
  {
   "cell_type": "code",
   "execution_count": 9,
   "id": "d4c3aab6-9e81-4a03-b4c1-b83fba757c24",
   "metadata": {},
   "outputs": [
    {
     "name": "stdout",
     "output_type": "stream",
     "text": [
      "[4, 7, 9, 11, 12]\n"
     ]
    }
   ],
   "source": [
    "my_array.sort()\n",
    "print(my_array)"
   ]
  },
  {
   "cell_type": "code",
   "execution_count": 10,
   "id": "f411c29d-74c7-4beb-8c92-ef19187f5f2c",
   "metadata": {},
   "outputs": [
    {
     "name": "stdout",
     "output_type": "stream",
     "text": [
      "Sorted array: [5, 11, 12, 22, 25, 34, 64, 90]\n"
     ]
    }
   ],
   "source": [
    "my_array = [64, 34, 25, 12, 22, 11, 90, 5]\n",
    "\n",
    "n = len(my_array)\n",
    "for i in range(n-1):\n",
    "    for j in range(n-i-1):\n",
    "        if my_array[j] > my_array[j+1]:\n",
    "            my_array[j], my_array[j+1] = my_array[j+1], my_array[j]\n",
    "\n",
    "print(\"Sorted array:\", my_array)"
   ]
  },
  {
   "cell_type": "code",
   "execution_count": 11,
   "id": "272d0452-0185-4a5a-bc58-4ea7c9da9e36",
   "metadata": {},
   "outputs": [
    {
     "name": "stdout",
     "output_type": "stream",
     "text": [
      "Sorted array: [3, 7, 9, 11, 12]\n"
     ]
    }
   ],
   "source": [
    "my_array = [7, 3, 9, 12, 11]\n",
    "\n",
    "n = len(my_array)\n",
    "for i in range(n-1):\n",
    "    swapped = False\n",
    "    for j in range(n-i-1):\n",
    "        if my_array[j] > my_array[j+1]:\n",
    "            my_array[j], my_array[j+1] = my_array[j+1], my_array[j]\n",
    "            swapped = True\n",
    "    if not swapped:\n",
    "        break\n",
    "\n",
    "print(\"Sorted array:\", my_array)"
   ]
  },
  {
   "cell_type": "code",
   "execution_count": null,
   "id": "1fd352f8-5aca-4b97-8330-8cb4a539a7bb",
   "metadata": {},
   "outputs": [],
   "source": []
  }
 ],
 "metadata": {
  "kernelspec": {
   "display_name": "Python 3 (ipykernel)",
   "language": "python",
   "name": "python3"
  },
  "language_info": {
   "codemirror_mode": {
    "name": "ipython",
    "version": 3
   },
   "file_extension": ".py",
   "mimetype": "text/x-python",
   "name": "python",
   "nbconvert_exporter": "python",
   "pygments_lexer": "ipython3",
   "version": "3.11.7"
  }
 },
 "nbformat": 4,
 "nbformat_minor": 5
}
