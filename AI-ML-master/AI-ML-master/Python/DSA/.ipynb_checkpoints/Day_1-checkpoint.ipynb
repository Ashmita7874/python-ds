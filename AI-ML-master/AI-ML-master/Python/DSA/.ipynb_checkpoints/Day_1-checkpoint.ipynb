{
 "cells": [
  {
   "cell_type": "code",
   "execution_count": 1,
   "id": "9811c38b-c3d1-4a9c-8a97-fe7e599959b6",
   "metadata": {},
   "outputs": [],
   "source": [
    "Num_list = [4, 9, 15, 21, 34, 57, 68, 91]"
   ]
  },
  {
   "cell_type": "code",
   "execution_count": 3,
   "id": "32b1083e-7471-41cb-b7f5-6b78cee7016a",
   "metadata": {},
   "outputs": [
    {
     "name": "stdout",
     "output_type": "stream",
     "text": [
      "6\n"
     ]
    }
   ],
   "source": [
    "for n in range(len(Num_list)):\n",
    "    if Num_list[n] == 68:\n",
    "        print(n)"
   ]
  }
 ],
 "metadata": {
  "kernelspec": {
   "display_name": "Python 3 (ipykernel)",
   "language": "python",
   "name": "python3"
  },
  "language_info": {
   "codemirror_mode": {
    "name": "ipython",
    "version": 3
   },
   "file_extension": ".py",
   "mimetype": "text/x-python",
   "name": "python",
   "nbconvert_exporter": "python",
   "pygments_lexer": "ipython3",
   "version": "3.11.7"
  }
 },
 "nbformat": 4,
 "nbformat_minor": 5
}
