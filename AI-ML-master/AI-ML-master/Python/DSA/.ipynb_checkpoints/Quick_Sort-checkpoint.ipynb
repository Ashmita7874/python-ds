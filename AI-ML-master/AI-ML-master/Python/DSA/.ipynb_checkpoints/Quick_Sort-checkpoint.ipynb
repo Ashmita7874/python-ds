{
 "cells": [
  {
   "cell_type": "code",
   "execution_count": 1,
   "id": "c21cba5d-c8c8-4363-88d2-c25860b26f14",
   "metadata": {},
   "outputs": [
    {
     "name": "stdout",
     "output_type": "stream",
     "text": [
      "Sorted array: [5, 11, 12, 22, 25, 34, 64, 90]\n"
     ]
    }
   ],
   "source": [
    "def partition(array, low, high):\n",
    "    pivot = array[high]\n",
    "    i = low - 1\n",
    "\n",
    "    for j in range(low, high):\n",
    "        if array[j] <= pivot:\n",
    "            i += 1\n",
    "            array[i], array[j] = array[j], array[i]\n",
    "\n",
    "    array[i+1], array[high] = array[high], array[i+1]\n",
    "    return i+1\n",
    "\n",
    "def quicksort(array, low=0, high=None):\n",
    "    if high is None:\n",
    "        high = len(array) - 1\n",
    "\n",
    "    if low < high:\n",
    "        pivot_index = partition(array, low, high)\n",
    "        quicksort(array, low, pivot_index-1)\n",
    "        quicksort(array, pivot_index+1, high)\n",
    "\n",
    "my_array = [64, 34, 25, 12, 22, 11, 90, 5]\n",
    "quicksort(my_array)\n",
    "print(\"Sorted array:\", my_array)"
   ]
  },
  {
   "cell_type": "code",
   "execution_count": null,
   "id": "a813685e-2c94-4cb3-9304-052693bf0904",
   "metadata": {},
   "outputs": [],
   "source": []
  }
 ],
 "metadata": {
  "kernelspec": {
   "display_name": "Python 3 (ipykernel)",
   "language": "python",
   "name": "python3"
  },
  "language_info": {
   "codemirror_mode": {
    "name": "ipython",
    "version": 3
   },
   "file_extension": ".py",
   "mimetype": "text/x-python",
   "name": "python",
   "nbconvert_exporter": "python",
   "pygments_lexer": "ipython3",
   "version": "3.11.7"
  }
 },
 "nbformat": 4,
 "nbformat_minor": 5
}
