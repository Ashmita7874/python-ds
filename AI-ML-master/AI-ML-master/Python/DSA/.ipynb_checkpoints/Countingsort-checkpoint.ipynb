{
 "cells": [
  {
   "cell_type": "code",
   "execution_count": 1,
   "id": "563209d5-474b-4054-aa43-6dda7959fe16",
   "metadata": {},
   "outputs": [
    {
     "name": "stdout",
     "output_type": "stream",
     "text": [
      "Sorted array: [1, 2, 2, 2, 3, 3, 3, 4, 5, 6, 6]\n"
     ]
    }
   ],
   "source": [
    "def countingSort(arr):\n",
    "    max_val = max(arr)\n",
    "    count = [0] * (max_val + 1)\n",
    "\n",
    "    while len(arr) > 0:\n",
    "        num = arr.pop(0)\n",
    "        count[num] += 1\n",
    "\n",
    "    for i in range(len(count)):\n",
    "        while count[i] > 0:\n",
    "            arr.append(i)\n",
    "            count[i] -= 1\n",
    "\n",
    "    return arr\n",
    "\n",
    "unsortedArr = [4, 2, 2, 6, 3, 3, 1, 6, 5, 2, 3]\n",
    "sortedArr = countingSort(unsortedArr)\n",
    "print(\"Sorted array:\", sortedArr)"
   ]
  },
  {
   "cell_type": "code",
   "execution_count": 2,
   "id": "b97297de-87c1-4566-8d7a-b04c55e9dea0",
   "metadata": {},
   "outputs": [
    {
     "name": "stdout",
     "output_type": "stream",
     "text": [
      "Sorted array: [1, 2, 2, 2, 3, 3, 3, 4, 5, 6, 6]\n"
     ]
    }
   ],
   "source": [
    "def countingSort(arr):\n",
    "    # Find the maximum value in the input array to determine the range of the count array\n",
    "    max_val = max(arr)\n",
    "    \n",
    "    # Initialize the count array with zeros, with a length of max_val + 1\n",
    "    # This array will be used to count the occurrences of each value in the input array\n",
    "    count = [0] * (max_val + 1)\n",
    "\n",
    "    # Process each element in the input array\n",
    "    # Pop each element from the input array and increment the corresponding index in the count array\n",
    "    while len(arr) > 0:\n",
    "        num = arr.pop(0)\n",
    "        count[num] += 1\n",
    "\n",
    "    # Reconstruct the sorted array\n",
    "    # For each index in the count array, append the index to the input array based on the count value\n",
    "    for i in range(len(count)):\n",
    "        while count[i] > 0:\n",
    "            arr.append(i)\n",
    "            count[i] -= 1\n",
    "\n",
    "    # Return the sorted array\n",
    "    return arr\n",
    "\n",
    "# Example usage:\n",
    "unsortedArr = [4, 2, 2, 6, 3, 3, 1, 6, 5, 2, 3]\n",
    "sortedArr = countingSort(unsortedArr)\n",
    "print(\"Sorted array:\", sortedArr)\n"
   ]
  },
  {
   "cell_type": "code",
   "execution_count": null,
   "id": "d5a40d9b-6db7-4931-a482-3b41f7afc1f5",
   "metadata": {},
   "outputs": [],
   "source": []
  }
 ],
 "metadata": {
  "kernelspec": {
   "display_name": "Python 3 (ipykernel)",
   "language": "python",
   "name": "python3"
  },
  "language_info": {
   "codemirror_mode": {
    "name": "ipython",
    "version": 3
   },
   "file_extension": ".py",
   "mimetype": "text/x-python",
   "name": "python",
   "nbconvert_exporter": "python",
   "pygments_lexer": "ipython3",
   "version": "3.11.7"
  }
 },
 "nbformat": 4,
 "nbformat_minor": 5
}
