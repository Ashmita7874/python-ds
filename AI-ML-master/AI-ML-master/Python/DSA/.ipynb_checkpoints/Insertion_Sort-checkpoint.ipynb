{
 "cells": [
  {
   "cell_type": "code",
   "execution_count": 1,
   "id": "4b8e90e3-89e8-42e0-b94a-0c54afc8a9f9",
   "metadata": {},
   "outputs": [
    {
     "name": "stdout",
     "output_type": "stream",
     "text": [
      "Sorted array: [5, 11, 12, 22, 25, 34, 64, 90]\n"
     ]
    }
   ],
   "source": [
    "my_array = [64, 34, 25, 12, 22, 11, 90, 5]\n",
    "\n",
    "n = len(my_array)\n",
    "for i in range(1,n):\n",
    "    insert_index = i\n",
    "    current_value = my_array.pop(i)\n",
    "    for j in range(i-1, -1, -1):\n",
    "        if my_array[j] > current_value:\n",
    "            insert_index = j\n",
    "    my_array.insert(insert_index, current_value)\n",
    "\n",
    "print(\"Sorted array:\", my_array)"
   ]
  },
  {
   "cell_type": "code",
   "execution_count": 2,
   "id": "5378c1cd-739e-487f-b357-8865c87821cc",
   "metadata": {},
   "outputs": [
    {
     "name": "stdout",
     "output_type": "stream",
     "text": [
      "Sorted array: [5, 11, 12, 22, 25, 34, 64, 90]\n"
     ]
    }
   ],
   "source": [
    "my_array = [64, 34, 25, 12, 22, 11, 90, 5]\n",
    "\n",
    "n = len(my_array)\n",
    "for i in range(1,n):\n",
    "    insert_index = i\n",
    "    current_value = my_array[i]\n",
    "    for j in range(i-1, -1, -1):\n",
    "        if my_array[j] > current_value:\n",
    "            my_array[j+1] = my_array[j]\n",
    "            insert_index = j\n",
    "        else:\n",
    "            break\n",
    "    my_array[insert_index] = current_value\n",
    "\n",
    "print(\"Sorted array:\", my_array)"
   ]
  },
  {
   "cell_type": "code",
   "execution_count": null,
   "id": "a49373af-9acb-4ec5-a380-6051d31b7c10",
   "metadata": {},
   "outputs": [],
   "source": []
  }
 ],
 "metadata": {
  "kernelspec": {
   "display_name": "Python 3 (ipykernel)",
   "language": "python",
   "name": "python3"
  },
  "language_info": {
   "codemirror_mode": {
    "name": "ipython",
    "version": 3
   },
   "file_extension": ".py",
   "mimetype": "text/x-python",
   "name": "python",
   "nbconvert_exporter": "python",
   "pygments_lexer": "ipython3",
   "version": "3.11.7"
  }
 },
 "nbformat": 4,
 "nbformat_minor": 5
}
