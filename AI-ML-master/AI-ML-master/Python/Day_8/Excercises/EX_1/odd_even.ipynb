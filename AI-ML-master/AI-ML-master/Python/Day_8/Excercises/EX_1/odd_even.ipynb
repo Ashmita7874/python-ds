{
 "cells": [
  {
   "cell_type": "code",
   "execution_count": 2,
   "id": "954bd117-3d9d-49a4-9339-b47f9e970f38",
   "metadata": {},
   "outputs": [
    {
     "name": "stdin",
     "output_type": "stream",
     "text": [
      " 45\n"
     ]
    },
    {
     "name": "stdout",
     "output_type": "stream",
     "text": [
      "This is an odd number.\n"
     ]
    }
   ],
   "source": [
    "# Which number do you want to check?\n",
    "number = int(input())\n",
    "\n",
    "\n",
    "# The first thing we're going to check using an if statement is if the value that's stored\n",
    "# in our variable number is divisible by two and has no remainder, and we're going to do this using\n",
    "# the modulo, so number % 2, and then we use the double equal (==) sign to check to see if it equals 0.\n",
    "# And this is equivalent to saying if number divided by 2 has no decimal places, well then in that case\n",
    "# it must be an even number. So that's why on the next line, Line 19, we have an indented print statement.\n",
    "# This print statement is going to be carried out if the Line 18 condition is true.\n",
    "# If the input was indeed an even number, say it was Number 4, 4/ 2, 2 goes into 4 twice, and there is no remainder.\n",
    "# So therefore the modulo operator gives us a result of 0. So if that condition is true, it's going to fall\n",
    "# into the indented print statement and printout, \"This is an even number.\"\n",
    "\n",
    "\n",
    "\n",
    "# If the number can be divided by 2 with 0 remainder.\n",
    "if number % 2 == 0:\n",
    "  print(\"This is an even number.\")\n",
    "# Otherwise (number cannot be divided by 2 with 0 remainder).\n",
    "else:\n",
    "  print(\"This is an odd number.\")\n",
    "\n",
    "\n",
    "\n",
    "# If the input was indeed an even number, say it was Number 4, 4/ 2, 2 goes into 4 twice, and there is no remainder.\n",
    "# So therefore the modulo operator gives us a result of 0. So if that condition is true, it's going to fall\n",
    "# into the indented print statement and printout, \"This is an even number.\"\n",
    "# Alternatively, or in this case, in the else condition, so if Line 18 condition was false, it did not work\n",
    "# and there was a remainder, then we're going to print out, \"This is an odd number.\" This is a way that we can manipulate numbers and check them and use what we learned\n",
    "# about conditionals to check if a condition is true and behave in a certain way, or if that condition was false,\n",
    "# then our program should behave in a different way."
   ]
  }
 ],
 "metadata": {
  "kernelspec": {
   "display_name": "Python 3 (ipykernel)",
   "language": "python",
   "name": "python3"
  },
  "language_info": {
   "codemirror_mode": {
    "name": "ipython",
    "version": 3
   },
   "file_extension": ".py",
   "mimetype": "text/x-python",
   "name": "python",
   "nbconvert_exporter": "python",
   "pygments_lexer": "ipython3",
   "version": "3.11.7"
  }
 },
 "nbformat": 4,
 "nbformat_minor": 5
}
